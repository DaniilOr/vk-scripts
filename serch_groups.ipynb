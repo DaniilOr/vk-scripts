{
 "cells": [
  {
   "cell_type": "markdown",
   "metadata": {},
   "source": [
    "Автор: Шмаков Сергей\n",
    "* http://freesmm.ru\n",
    "* https://vk.com/smmblog\n",
    "* https://vk.com/freesmm - сборник бесплатных скриптов для SMM\n",
    "* https://youtube.com/smmblog\n",
    "\n",
    "* **Вопросы по скрипту/доработки** : https://new.vk.com/topic-41212221_34157816\n",
    "\n",
    "> Хотите научиться самостоятельно делать такие скрипты? Проходите бесплатный курс, который я составил и будем всем счастье! http://freesmm.tilda.ws/page241764.html"
   ]
  },
  {
   "cell_type": "markdown",
   "metadata": {},
   "source": [
    "# Поиск сообществ в ВКонтакте"
   ]
  },
  {
   "cell_type": "markdown",
   "metadata": {},
   "source": [
    "Что умеет скрипт:\n",
    "* Собирать 1000 групп по запросу с возможностью выбора типа сообществ (группа\\встреча\\паблик)\n",
    "* Записывать данные (id, название, ссылку) в csv\n",
    "\n",
    "To Dо (чего нет, но хотелось бы добавить):\n",
    "* добавить поиск по стране/городу\n",
    "* сортировки "
   ]
  },
  {
   "cell_type": "markdown",
   "metadata": {},
   "source": [
    ">запустите последоствательно блоки с кодом. следуйте инструкциям."
   ]
  },
  {
   "cell_type": "code",
   "execution_count": 5,
   "metadata": {
    "collapsed": true
   },
   "outputs": [],
   "source": [
    "import requests\n",
    "import time as t \n",
    "import csv\n",
    "from datetime import datetime, date, time, timedelta\n",
    "import numpy as np\n",
    "import pandas as pd\n",
    "from pandas import DataFrame"
   ]
  },
  {
   "cell_type": "markdown",
   "metadata": {},
   "source": [
    "Ссылка для получения токена: https://oauth.vk.com/authorize?client_id=5453402&display=page&redirect_uri=http://localhost&scope=&response_type=token&v=5.53"
   ]
  },
  {
   "cell_type": "code",
   "execution_count": 6,
   "metadata": {
    "collapsed": true
   },
   "outputs": [],
   "source": [
    "token = 'вставьте сюда токен, полученный по ссылке выше'"
   ]
  },
  {
   "cell_type": "code",
   "execution_count": 15,
   "metadata": {
    "collapsed": false
   },
   "outputs": [],
   "source": [
    "def search_groups():\n",
    "    print('Цербер начал работу в:',datetime.strftime(datetime.now(), \"%H:%M:%S\"))\n",
    "    q = str(input('Введите поисковый запрос:'))\n",
    "    type_group = str(input('Введите тип сообществ. page, group, event.\\nОставьте пустым, чтобы вернул все типы сообществ:'))\n",
    "    sort = 0\n",
    "\n",
    "    r = requests.post('https://api.vk.com/method/execute.Shmakov_search_groups?q='+\n",
    "                          str(q)+'&sort='+str(sort)+'&type='+str(type_group)+'&access_token='+token).json()['response']\n",
    "    \n",
    "    count_groups = r[0]\n",
    "    \n",
    "    name = []\n",
    "    id = []\n",
    "    type = []\n",
    "    screen_name= []\n",
    "    \n",
    "    #создаем пустой словарь, в который будем помещать информацию по каждой группе, для последующего импорта во frame\n",
    "    data_list = {'name':name,\n",
    "                 'screen_name':screen_name,\n",
    "                 'id':id,\n",
    "                 'type':type}\n",
    "\n",
    "    for i in r[1]:\n",
    "        name.append(i['name'])\n",
    "        screen_name.append('https://vk.com/'+str(i['screen_name']))\n",
    "        id.append(i['id'])\n",
    "        type.append(i['type'])\n",
    "\n",
    "    frame = DataFrame(data_list)\n",
    "    print('Цербер обработал данные в:',datetime.strftime(datetime.now(), \"%H:%M:%S\"))\n",
    "    print('Запускайте последовательно блоки ниже')\n",
    "    return frame, count_groups"
   ]
  },
  {
   "cell_type": "markdown",
   "metadata": {},
   "source": [
    "# Сбор списка сообществ"
   ]
  },
  {
   "cell_type": "code",
   "execution_count": 17,
   "metadata": {
    "collapsed": false
   },
   "outputs": [
    {
     "name": "stdout",
     "output_type": "stream",
     "text": [
      "Цербер начал работу в: 00:12:09\n",
      "Введите поисковый запрос:smm\n",
      "Введите тип сообществ. page, group, event.\n",
      "Оставьте пустым, чтобы вернул все типы сообществ:\n",
      "Цербер обработал данные в: 00:12:58\n",
      "Запускайте последовательно блоки ниже\n",
      "Найдено сообществ: 5956\n"
     ]
    }
   ],
   "source": [
    "frame, count_groups = search_groups()\n",
    "print ('Найдено сообществ:',count_groups)"
   ]
  },
  {
   "cell_type": "code",
   "execution_count": null,
   "metadata": {
    "collapsed": true
   },
   "outputs": [],
   "source": [
    "frame.to_csv('example.csv') #запишет все данные в csv файл"
   ]
  },
  {
   "cell_type": "code",
   "execution_count": 18,
   "metadata": {
    "collapsed": false
   },
   "outputs": [
    {
     "data": {
      "text/html": [
       "<div>\n",
       "<table border=\"1\" class=\"dataframe\">\n",
       "  <thead>\n",
       "    <tr style=\"text-align: right;\">\n",
       "      <th></th>\n",
       "      <th>id</th>\n",
       "      <th>name</th>\n",
       "      <th>screen_name</th>\n",
       "      <th>type</th>\n",
       "    </tr>\n",
       "  </thead>\n",
       "  <tbody>\n",
       "    <tr>\n",
       "      <th>0</th>\n",
       "      <td>19542789</td>\n",
       "      <td>ВКонтакте для бизнеса</td>\n",
       "      <td>https://vk.com/adsnews</td>\n",
       "      <td>page</td>\n",
       "    </tr>\n",
       "    <tr>\n",
       "      <th>1</th>\n",
       "      <td>43503600</td>\n",
       "      <td>SMMщики</td>\n",
       "      <td>https://vk.com/smm_pub</td>\n",
       "      <td>page</td>\n",
       "    </tr>\n",
       "    <tr>\n",
       "      <th>2</th>\n",
       "      <td>4489985</td>\n",
       "      <td>Вики-разметка / SMM ВКонтакте</td>\n",
       "      <td>https://vk.com/wk</td>\n",
       "      <td>page</td>\n",
       "    </tr>\n",
       "    <tr>\n",
       "      <th>3</th>\n",
       "      <td>38369814</td>\n",
       "      <td>SMM блог</td>\n",
       "      <td>https://vk.com/smmblog</td>\n",
       "      <td>page</td>\n",
       "    </tr>\n",
       "    <tr>\n",
       "      <th>4</th>\n",
       "      <td>79389828</td>\n",
       "      <td>SMM planner</td>\n",
       "      <td>https://vk.com/smmplanner</td>\n",
       "      <td>group</td>\n",
       "    </tr>\n",
       "  </tbody>\n",
       "</table>\n",
       "</div>"
      ],
      "text/plain": [
       "         id                           name                screen_name   type\n",
       "0  19542789          ВКонтакте для бизнеса     https://vk.com/adsnews   page\n",
       "1  43503600                        SMMщики     https://vk.com/smm_pub   page\n",
       "2   4489985  Вики-разметка / SMM ВКонтакте          https://vk.com/wk   page\n",
       "3  38369814                       SMM блог     https://vk.com/smmblog   page\n",
       "4  79389828                    SMM planner  https://vk.com/smmplanner  group"
      ]
     },
     "execution_count": 18,
     "metadata": {},
     "output_type": "execute_result"
    }
   ],
   "source": [
    "frame.head() #покажет первые 5 сообществ"
   ]
  },
  {
   "cell_type": "code",
   "execution_count": 20,
   "metadata": {
    "collapsed": false
   },
   "outputs": [
    {
     "data": {
      "text/plain": [
       "0                  https://vk.com/adsnews\n",
       "1                  https://vk.com/smm_pub\n",
       "2                       https://vk.com/wk\n",
       "3                  https://vk.com/smmblog\n",
       "4               https://vk.com/smmplanner\n",
       "5              https://vk.com/smmprosales\n",
       "6         https://vk.com/opencart_seo_smm\n",
       "7         https://vk.com/viproject.agency\n",
       "8    https://vk.com/marketing_reklama_smm\n",
       "9                    https://vk.com/smmrf\n",
       "Name: screen_name, dtype: object"
      ]
     },
     "execution_count": 20,
     "metadata": {},
     "output_type": "execute_result"
    }
   ],
   "source": [
    "frame['screen_name'][0:10] #покажет 10 сообществ. можно регулировать. + ссылки кликабельны"
   ]
  }
 ],
 "metadata": {
  "kernelspec": {
   "display_name": "Python 3",
   "language": "python",
   "name": "python3"
  },
  "language_info": {
   "codemirror_mode": {
    "name": "ipython",
    "version": 3
   },
   "file_extension": ".py",
   "mimetype": "text/x-python",
   "name": "python",
   "nbconvert_exporter": "python",
   "pygments_lexer": "ipython3",
   "version": "3.5.1"
  }
 },
 "nbformat": 4,
 "nbformat_minor": 0
}
