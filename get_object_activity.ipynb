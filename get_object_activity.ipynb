{
 "cells": [
  {
   "cell_type": "markdown",
   "metadata": {},
   "source": [
    "# Сбор ID из поста"
   ]
  },
  {
   "cell_type": "markdown",
   "metadata": {},
   "source": [
    "Автор: Шмаков Сергей\n",
    "* http://freesmm.ru\n",
    "* https://vk.com/smmblog\n",
    "* https://vk.com/freesmm - сборник бесплатных скриптов для SMM\n",
    "* https://youtube.com/smmblog\n",
    "\n",
    "* **Вопросы по скрипту/доработки** : https://new.vk.com/topic-41212221_34161499\n",
    "\n",
    "> Хотите научиться самостоятельно делать такие скрипты? Проходите бесплатный курс, который я составил и будем всем счастье! http://freesmm.tilda.ws/page241764.html"
   ]
  },
  {
   "cell_type": "markdown",
   "metadata": {},
   "source": [
    "**Что умеет скрипт:**\n",
    "* собирать данные тех, кто лайкал и репостил\n",
    "* собирать данные тех, кто комментировал\n",
    "* записывать только ID тех, кто лайкал-репостил и/или комментировал\n",
    "\n",
    "**Ограничения:**\n",
    "* собирает данные о первых 2000 лайках\n",
    "* собирает данные о первых 400 комментариях\n",
    "> для большинства этого будет более чем достаточно."
   ]
  },
  {
   "cell_type": "markdown",
   "metadata": {},
   "source": [
    "Запустите последовательно блоки кода"
   ]
  },
  {
   "cell_type": "code",
   "execution_count": 1,
   "metadata": {
    "collapsed": true
   },
   "outputs": [],
   "source": [
    "import requests\n",
    "import time as t \n",
    "import csv\n",
    "import datetime as dt\n",
    "from datetime import datetime, date, time, timedelta"
   ]
  },
  {
   "cell_type": "markdown",
   "metadata": {},
   "source": [
    "Получить токен (перейдите по ссылке) - https://oauth.vk.com/authorize?client_id=5453402&display=page&redirect_uri=http://localhost&scope=&response_type=token&v=5.53"
   ]
  },
  {
   "cell_type": "code",
   "execution_count": 34,
   "metadata": {
    "collapsed": true
   },
   "outputs": [],
   "source": [
    "token = 'Сюда вставить токен авторизации'"
   ]
  },
  {
   "cell_type": "code",
   "execution_count": 28,
   "metadata": {
    "collapsed": false
   },
   "outputs": [],
   "source": [
    "def get_post_activity(owner_id,post_id):\n",
    "    print ('Цербер начал работу в:',datetime.strftime(datetime.now(), \"%H:%M:%S\"))\n",
    "    r = requests.post('https://api.vk.com/method/execute.Shmakov_get_object_activity?owner_id='+str(owner_id)+\n",
    "                      '&post_id='+str(post_id)+'&type=post&access_token='+token).json()['response']\n",
    "\n",
    "    user_id_like = []\n",
    "    for i in r[0]:\n",
    "        user_id_like.append(i['id'])\n",
    "\n",
    "    user_id_comments = []\n",
    "    for i in r[1]:\n",
    "        user_id_comments.append(i['from_id'])\n",
    "    print ('Цербер собрал данные:',datetime.strftime(datetime.now(), \"%H:%M:%S\"))\n",
    "    return user_id_like,user_id_comments"
   ]
  },
  {
   "cell_type": "markdown",
   "metadata": {},
   "source": [
    "В блоке ниже, отредактируйте owner_id и post_id\n",
    "\n",
    "Пример: https://new.vk.com/smmblog?w=wall-38369814_20348\n",
    "* первая цифра (38369814) – это **owner_id**\n",
    "* вторая цифра (20348) –    это **post_id**"
   ]
  },
  {
   "cell_type": "code",
   "execution_count": 29,
   "metadata": {
    "collapsed": false
   },
   "outputs": [
    {
     "name": "stdout",
     "output_type": "stream",
     "text": [
      "Цербер начал работу в: 20:44:27\n",
      "Цербер собрал данные: 20:44:28\n",
      "Wall time: 664 ms\n"
     ]
    }
   ],
   "source": [
    "owner_id = -43116499 #id сообщества с минусом\n",
    "post_id = 576005 #id поста\n",
    "%time user_id_like, user_id_comments = get_post_activity(owner_id,post_id)"
   ]
  },
  {
   "cell_type": "markdown",
   "metadata": {},
   "source": [
    "## Запись данных"
   ]
  },
  {
   "cell_type": "markdown",
   "metadata": {},
   "source": [
    "### Вариант 1 - только лайки\\репосты"
   ]
  },
  {
   "cell_type": "markdown",
   "metadata": {},
   "source": [
    "\n",
    "Запишет тех, кто лайкал и репостил"
   ]
  },
  {
   "cell_type": "code",
   "execution_count": 31,
   "metadata": {
    "collapsed": false
   },
   "outputs": [],
   "source": [
    "a = open('post'+str(owner_id)+'-'+str(post_id)+'.txt', 'a')\n",
    "for i in user_id_like:\n",
    "    a.write(str(i)+'\\n') #писать мож\n",
    "a.close() \n",
    "print ('Цербер записал данные')"
   ]
  },
  {
   "cell_type": "markdown",
   "metadata": {},
   "source": [
    "### Вариант 2 - только комментарии"
   ]
  },
  {
   "cell_type": "markdown",
   "metadata": {},
   "source": [
    "Запишет тех, кто комментировал"
   ]
  },
  {
   "cell_type": "code",
   "execution_count": 32,
   "metadata": {
    "collapsed": true
   },
   "outputs": [],
   "source": [
    "a = open('post'+str(owner_id)+'-'+str(post_id)+'.txt', 'a')\n",
    "for i in user_id_comments:\n",
    "    a.write(str(i)+'\\n') #писать мож\n",
    "a.close() \n",
    "print ('Цербер записал данные')"
   ]
  },
  {
   "cell_type": "markdown",
   "metadata": {},
   "source": [
    "### Вариант 3 - лайки + репосты\n",
    "Запишет сразу и тех, и других."
   ]
  },
  {
   "cell_type": "code",
   "execution_count": 33,
   "metadata": {
    "collapsed": true
   },
   "outputs": [],
   "source": [
    "a = open('post'+str(owner_id)+'-'+str(post_id)+'.txt', 'w')\n",
    "for i in user_id_like:\n",
    "    a.write(str(i)+'\\n') #писать мож\n",
    "for i in user_id_comments:\n",
    "    a.write(str(i)+'\\n') #писать мож\n",
    "a.close()\n",
    "print ('Цербер записал данные')"
   ]
  },
  {
   "cell_type": "code",
   "execution_count": null,
   "metadata": {
    "collapsed": true
   },
   "outputs": [],
   "source": [
    "def():\n",
    "    for i in range(1,30000000):\n",
    "        a.write(str(i)+'\\n') #писать мож"
   ]
  }
 ],
 "metadata": {
  "kernelspec": {
   "display_name": "Python 3",
   "language": "python",
   "name": "python3"
  },
  "language_info": {
   "codemirror_mode": {
    "name": "ipython",
    "version": 3
   },
   "file_extension": ".py",
   "mimetype": "text/x-python",
   "name": "python",
   "nbconvert_exporter": "python",
   "pygments_lexer": "ipython3",
   "version": "3.5.1"
  }
 },
 "nbformat": 4,
 "nbformat_minor": 0
}
