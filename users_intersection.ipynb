{
 "cells": [
  {
   "cell_type": "markdown",
   "metadata": {},
   "source": [
    "# Цербер: пересечение между сообществами"
   ]
  },
  {
   "cell_type": "markdown",
   "metadata": {},
   "source": [
    "Автор: Шмаков Сергей\n",
    "* http://freesmm.ru\n",
    "* https://vk.com/smmblog\n",
    "* https://vk.com/freesmm - сборник бесплатных скриптов для SMM\n",
    "* https://youtube.com/smmblog\n",
    "\n",
    "* **Вопросы по скрипту/доработки** : https://new.vk.com/topic-41212221_34161499\n",
    "\n",
    "> Хотите научиться самостоятельно делать такие скрипты? Проходите бесплатный курс, который я составил и будем всем счастье! http://freesmm.tilda.ws/page241764.html"
   ]
  },
  {
   "cell_type": "markdown",
   "metadata": {},
   "source": [
    "Задача:\n",
    "> получить список ID пользователей, которые состоят сразу в 3-х сообществах."
   ]
  },
  {
   "cell_type": "markdown",
   "metadata": {},
   "source": [
    "Сравнивать будем:\n",
    "* https://vk.com/smmblog\n",
    "* https://vk.com/bizness_online\n",
    "* https://vk.com/cerebro_vk"
   ]
  },
  {
   "cell_type": "code",
   "execution_count": null,
   "metadata": {
    "collapsed": true
   },
   "outputs": [],
   "source": [
    "Vm8WB2Uy_v0"
   ]
  },
  {
   "cell_type": "markdown",
   "metadata": {},
   "source": [
    "Получить токен: https://oauth.vk.com/authorize?client_id=5453402&display=page&redirect_uri=http://localhost&scope=&response_type=token&v=5.53"
   ]
  },
  {
   "cell_type": "code",
   "execution_count": 24,
   "metadata": {
    "collapsed": true
   },
   "outputs": [],
   "source": [
    "token = '' #вставить в ковычки токен"
   ]
  },
  {
   "cell_type": "code",
   "execution_count": 1,
   "metadata": {
    "collapsed": true
   },
   "outputs": [],
   "source": [
    "import requests\n",
    "import time as t \n",
    "import csv\n",
    "from datetime import datetime, date, time, timedelta\n",
    "import random"
   ]
  },
  {
   "cell_type": "markdown",
   "metadata": {},
   "source": [
    "Функция для сбора ID из сообщества\n",
    "взята из готового скрипта - https://github.com/kepatopoc/vk-scripts/blob/master/get_club_id.ipynb"
   ]
  },
  {
   "cell_type": "code",
   "execution_count": 6,
   "metadata": {
    "collapsed": true
   },
   "outputs": [],
   "source": [
    "def get_members_list_id(owner_id):    \n",
    "    members_list =  [] #изначально пустой список участников\n",
    "\n",
    "    #первый запрос на 25000, чтобы получить первые 25000 и количество участников группы\n",
    "    r = requests.post('https://api.vk.com/method/execute.Shmakov_getClub_members?group_id='+\n",
    "                      str(owner_id)+'&offset='+str(0)+'&count='+str(25000)+'&access_token='+token).json()['response']\n",
    "    members_count = r[0] #количество участников\n",
    "    \n",
    "    print('В сообществе', owner_id, 'участников :',members_count)\n",
    "    \n",
    "    members_list.extend(r[1]) #вносим первые 25000 ID \n",
    "    \n",
    "    if members_count > 25000:\n",
    "        print('В сообществе',owner_id,'больше 25000 участников. Цербер запускает цикл')\n",
    "        for offset in range(25000, members_count, 25000):\n",
    "            count = offset + 25000\n",
    "\n",
    "            r = requests.post('https://api.vk.com/method/execute.Shmakov_getClub_members?group_id='+\n",
    "                             str(owner_id)+'&offset='+str(offset)+'&count='+str(count)+'&access_token='+token).json()['response']\n",
    "\n",
    "            members_list.extend(r[1]) #вносим все последующие ID пачками по 25000 ID\n",
    "\n",
    "\n",
    "            #t.sleep(.35) #задержки между запросом --- ВАЖНО: если будут возникать проблемы - расскоментировать \n",
    "        print('Цербер закончил сбор ID для')\n",
    "    else:\n",
    "        print('В сообществе меньше 25000 участников. Цербер закончил сбор ID для')\n",
    "\n",
    "    return members_list"
   ]
  },
  {
   "cell_type": "markdown",
   "metadata": {},
   "source": [
    "Запускаем функцию для каждого сообщества.\n",
    "\n",
    "**%time** - для вывода времени, за которое выполняется функция"
   ]
  },
  {
   "cell_type": "code",
   "execution_count": 11,
   "metadata": {
    "collapsed": false
   },
   "outputs": [
    {
     "name": "stdout",
     "output_type": "stream",
     "text": [
      "В сообществе 38369814 участников : 28945\n",
      "В сообществе 38369814 больше 25000 участников. Цербер запускает цикл\n",
      "Цербер закончил сбор ID для\n",
      "Wall time: 1.32 s\n",
      "В сообществе 73662138 участников : 136479\n",
      "В сообществе 73662138 больше 25000 участников. Цербер запускает цикл\n",
      "Цербер закончил сбор ID для\n",
      "Wall time: 4.92 s\n",
      "В сообществе 40018862 участников : 104536\n",
      "В сообществе 40018862 больше 25000 участников. Цербер запускает цикл\n",
      "Цербер закончил сбор ID для\n",
      "Wall time: 3.63 s\n"
     ]
    }
   ],
   "source": [
    "%time smmblog = get_members_list_id(38369814)\n",
    "%time cerebro = get_members_list_id(73662138)\n",
    "%time imaya = get_members_list_id(40018862)"
   ]
  },
  {
   "cell_type": "markdown",
   "metadata": {},
   "source": [
    "выводим на экран количество собранных ID"
   ]
  },
  {
   "cell_type": "code",
   "execution_count": 13,
   "metadata": {
    "collapsed": false
   },
   "outputs": [
    {
     "data": {
      "text/plain": [
       "269960"
      ]
     },
     "execution_count": 13,
     "metadata": {},
     "output_type": "execute_result"
    }
   ],
   "source": [
    "count = len(smmblog + cerebro + imaya)\n",
    "count #269 000 за 10 сек. о как."
   ]
  },
  {
   "cell_type": "markdown",
   "metadata": {},
   "source": [
    "Сколько участников состоит только в одном из 3х сообществ."
   ]
  },
  {
   "cell_type": "code",
   "execution_count": 18,
   "metadata": {
    "collapsed": false
   },
   "outputs": [
    {
     "data": {
      "text/plain": [
       "225804"
      ]
     },
     "execution_count": 18,
     "metadata": {},
     "output_type": "execute_result"
    }
   ],
   "source": [
    "uniq_3 = set(smmblog) | set(cerebro) | set(imaya)\n",
    "len(groups_3)"
   ]
  },
  {
   "cell_type": "markdown",
   "metadata": {},
   "source": [
    "![alt](https://api.monosnap.com/rpc/file/download?id=Sr0Wjle2cKKP4FYI5qy7F9hO87R1K5)<br>\n",
    "Получил уникальные, то есть без каких-либо пересечений. \n",
    "Получается что всего 44000 сидит в трёх сообществах.\n"
   ]
  },
  {
   "cell_type": "markdown",
   "metadata": {},
   "source": [
    "![alt](https://api.monosnap.com/rpc/file/download?id=kN2MR3ZGLZxLvq35hwvMGn9KZwN6uS)<br>\n"
   ]
  },
  {
   "cell_type": "code",
   "execution_count": 21,
   "metadata": {
    "collapsed": false
   },
   "outputs": [
    {
     "data": {
      "text/plain": [
       "6499"
      ]
     },
     "execution_count": 21,
     "metadata": {},
     "output_type": "execute_result"
    }
   ],
   "source": [
    "groups_3 = set(smmblog) & set(cerebro) & set(imaya)\n",
    "len(groups_3)"
   ]
  },
  {
   "cell_type": "markdown",
   "metadata": {},
   "source": [
    "![alt](https://api.monosnap.com/rpc/file/download?id=GXusDSTx27xXJjjajYOgLwiQ44M8H3)<br>"
   ]
  },
  {
   "cell_type": "markdown",
   "metadata": {},
   "source": [
    "6499 состоят сразу в трёх сообществах. Это значение без проблем можем записать в csv"
   ]
  },
  {
   "cell_type": "markdown",
   "metadata": {},
   "source": [
    "## Запись данных в csv"
   ]
  },
  {
   "cell_type": "code",
   "execution_count": 23,
   "metadata": {
    "collapsed": true
   },
   "outputs": [],
   "source": [
    "with open('3 группы.csv', 'w', newline='') as csvfile:\n",
    "            datawriter = csv.writer(csvfile, delimiter=',',\n",
    "                                quotechar='|', quoting=csv.QUOTE_MINIMAL)\n",
    "            datawriter.writerow(groups_3)"
   ]
  },
  {
   "cell_type": "markdown",
   "metadata": {},
   "source": [
    "Всё. файл можно загружать в ретаргетинг.\n",
    "\n",
    "Таким образом из нескольких частей был составлен простой скрипт по поиску тех, кто находится в нескольких сообщества. Заняло это неболее 10 минут при наличии готовых компоментов и понимании что делать."
   ]
  }
 ],
 "metadata": {
  "kernelspec": {
   "display_name": "Python 3",
   "language": "python",
   "name": "python3"
  },
  "language_info": {
   "codemirror_mode": {
    "name": "ipython",
    "version": 3
   },
   "file_extension": ".py",
   "mimetype": "text/x-python",
   "name": "python",
   "nbconvert_exporter": "python",
   "pygments_lexer": "ipython3",
   "version": "3.5.1"
  }
 },
 "nbformat": 4,
 "nbformat_minor": 0
}
