{
 "cells": [
  {
   "cell_type": "markdown",
   "metadata": {},
   "source": [
    "# Сбор ID участников сообщества (группа, паблик, встреча) ВКонтакте"
   ]
  },
  {
   "cell_type": "markdown",
   "metadata": {},
   "source": [
    "Автор: Шмаков Сергей\n",
    "* http://freesmm.ru\n",
    "* https://vk.com/smmblog\n",
    "* https://vk.com/freesmm - сборник бесплатных скриптов для SMM\n",
    "* https://youtube.com/smmblog\n",
    "\n",
    "* **Вопросы по скрипту/доработки** : https://new.vk.com/topic-41212221_34128076\n",
    "\n",
    "> Хотите научиться самостоятельно делать такие скрипты? Проходите бесплатный курс, который я составил и будем всем счастье! http://freesmm.tilda.ws/page241764.html"
   ]
  },
  {
   "cell_type": "markdown",
   "metadata": {},
   "source": [
    "Для корректной работы скрипта **необходимо получить ТОКЕН** и вставить его в одном из блоков\n",
    "\n",
    "**Как получить токен, для запуска приложений**:\n",
    "* Перейдите по ссылке: https://oauth.vk.com/authorize?client_id=5453402&display=page&redirect_uri=http://localhost&scope=&response_type=token&v=5.53\n",
    "* Скопируйте токен из адресной строки и вставьте в ячейку\n",
    "\n",
    "> Токен никуда не передаётся. О нём знаете только Вы и приложение ВКонтакте, которое не отображает токенов. Только количество установок приложения\n",
    "\n",
    "![alt](https://api.monosnap.com/rpc/file/download?id=H72wV79ObVw7rLBfJO8T4jOJ25szXW)"
   ]
  },
  {
   "cell_type": "markdown",
   "metadata": {},
   "source": [
    "Последовательно запустите блоки"
   ]
  },
  {
   "cell_type": "code",
   "execution_count": 12,
   "metadata": {
    "collapsed": true
   },
   "outputs": [],
   "source": [
    "import requests\n",
    "import time as t \n",
    "import csv\n",
    "from datetime import datetime, date, time, timedelta\n",
    "\n",
    "token = 'bce88fab620ffb6de808026706b0f318ecb9a5e3b61fec2b9cff1e'"
   ]
  },
  {
   "cell_type": "code",
   "execution_count": 16,
   "metadata": {
    "collapsed": false
   },
   "outputs": [],
   "source": [
    "def write_txt(members_list, owner_id):    \n",
    "    a = open('members_club'+str(owner_id)+'.txt', 'w')\n",
    "    for i in members_list:\n",
    "        a.write(str(i)+'\\n') #писать мож\n",
    "    a.close() "
   ]
  },
  {
   "cell_type": "code",
   "execution_count": 18,
   "metadata": {
    "collapsed": false
   },
   "outputs": [],
   "source": [
    "def get_members_list_id(owner_id):\n",
    "    print('Цербер начал работать в:',datetime.strftime(datetime.now(), \"%H:%M:%S\"))\n",
    "    \n",
    "    members_list =  [] #изначально пустой список участников\n",
    "\n",
    "    #первый запрос на 25000, чтобы получить первые 25000 и количество участников группы\n",
    "    r = requests.post('https://api.vk.com/method/execute.Shmakov_getClub_members?group_id='+\n",
    "                      str(owner_id)+'&offset='+str(0)+'&count='+str(25000)+'&access_token='+token).json()['response']\n",
    "    members_count = r[0] #количество участников\n",
    "    \n",
    "    print('Количество участников в сообществе:',members_count)\n",
    "    \n",
    "    members_list.extend(r[1]) #вносим первые 25000 ID \n",
    "    \n",
    "    if members_count > 25000:\n",
    "        print('В сообществе больше 25000 участников. Цербер запускает цикл')\n",
    "        for offset in range(25000, members_count, 25000):\n",
    "            count = offset + 25000\n",
    "\n",
    "            r = requests.post('https://api.vk.com/method/execute.Shmakov_getClub_members?group_id='+\n",
    "                             str(owner_id)+'&offset='+str(offset)+'&count='+str(count)+'&access_token='+token).json()['response']\n",
    "\n",
    "            members_list.extend(r[1]) #вносим все последующие ID пачками по 25000 ID\n",
    "\n",
    "\n",
    "            #t.sleep(.35) #задержки между запросом --- ВАЖНО: если будут возникать проблемы - расскоментировать \n",
    "        print('Цербер закончил сбор ID')\n",
    "    else:\n",
    "        print('В сообществе меньше 25000 участников. Цербер закончил сбор ID')\n",
    "    \n",
    "    print(len(members_list))\n",
    "    write_txt(members_list, owner_id) #записываем по 25000 ID\n",
    "    print('Данные успешно записаны')\n",
    "    print('Цербер закончил работать в:',datetime.strftime(datetime.now(), \"%H:%M:%S\"))\n"
   ]
  },
  {
   "cell_type": "markdown",
   "metadata": {},
   "source": [
    "Подставьте в скобки ID сообщества, из которого нужно собрать ID участников"
   ]
  },
  {
   "cell_type": "code",
   "execution_count": 20,
   "metadata": {
    "collapsed": false
   },
   "outputs": [
    {
     "name": "stdout",
     "output_type": "stream",
     "text": [
      "Цербер начал работать в: 22:50:09\n",
      "Количество участников в сообществе: 28261\n",
      "В сообществе больше 25000 участников. Цербер запускает цикл\n",
      "Цербер закончил сбор ID\n",
      "28261\n",
      "Данные успешно записаны\n",
      "Цербер закончил работать в: 22:50:10\n",
      "Wall time: 925 ms\n"
     ]
    }
   ],
   "source": [
    "%time get_members_list_id(38369814) # vk.com/smmblog"
   ]
  },
  {
   "cell_type": "code",
   "execution_count": 19,
   "metadata": {
    "collapsed": false
   },
   "outputs": [
    {
     "name": "stdout",
     "output_type": "stream",
     "text": [
      "Цербер начал работать в: 22:49:49\n",
      "Количество участников в сообществе: 528548\n",
      "В сообществе больше 25000 участников. Цербер запускает цикл\n",
      "Цербер закончил сбор ID\n",
      "528548\n",
      "Данные успешно записаны\n",
      "Цербер закончил работать в: 22:50:02\n",
      "Wall time: 13 s\n"
     ]
    }
   ],
   "source": [
    "%time get_members_list_id(33393308) # vk.com/vcru"
   ]
  },
  {
   "cell_type": "markdown",
   "metadata": {},
   "source": [
    "Автор: Шмаков Сергей\n",
    "* http://freesmm.ru\n",
    "* https://vk.com/smmblog\n",
    "* https://vk.com/freesmm - сборник бесплатных скриптов для SMM\n",
    "* https://youtube.com/smmblog\n",
    "\n",
    "* **Вопросы по скрипту/доработки** : https://new.vk.com/topic-41212221_34128076\n",
    "\n",
    "> Хотите научиться самостоятельно делать такие скрипты? Проходите бесплатный курс, который я составил и будем всем счастье! http://freesmm.tilda.ws/page241764.html"
   ]
  }
 ],
 "metadata": {
  "kernelspec": {
   "display_name": "Python 3",
   "language": "python",
   "name": "python3"
  },
  "language_info": {
   "codemirror_mode": {
    "name": "ipython",
    "version": 3
   },
   "file_extension": ".py",
   "mimetype": "text/x-python",
   "name": "python",
   "nbconvert_exporter": "python",
   "pygments_lexer": "ipython3",
   "version": "3.5.1"
  }
 },
 "nbformat": 4,
 "nbformat_minor": 0
}
